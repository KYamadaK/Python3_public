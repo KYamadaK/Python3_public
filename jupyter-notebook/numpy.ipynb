{
 "cells": [
  {
   "cell_type": "code",
   "execution_count": 34,
   "metadata": {},
   "outputs": [
    {
     "data": {
      "text/html": [
       "<div>\n",
       "<style scoped>\n",
       "    .dataframe tbody tr th:only-of-type {\n",
       "        vertical-align: middle;\n",
       "    }\n",
       "\n",
       "    .dataframe tbody tr th {\n",
       "        vertical-align: top;\n",
       "    }\n",
       "\n",
       "    .dataframe thead th {\n",
       "        text-align: right;\n",
       "    }\n",
       "</style>\n",
       "<table border=\"1\" class=\"dataframe\">\n",
       "  <thead>\n",
       "    <tr style=\"text-align: right;\">\n",
       "      <th></th>\n",
       "      <th>0</th>\n",
       "      <th>1</th>\n",
       "      <th>2</th>\n",
       "      <th>3</th>\n",
       "    </tr>\n",
       "  </thead>\n",
       "  <tbody>\n",
       "    <tr>\n",
       "      <th>0</th>\n",
       "      <td>0</td>\n",
       "      <td>1</td>\n",
       "      <td>2</td>\n",
       "      <td>3</td>\n",
       "    </tr>\n",
       "    <tr>\n",
       "      <th>1</th>\n",
       "      <td>4</td>\n",
       "      <td>5</td>\n",
       "      <td>6</td>\n",
       "      <td>7</td>\n",
       "    </tr>\n",
       "    <tr>\n",
       "      <th>2</th>\n",
       "      <td>8</td>\n",
       "      <td>9</td>\n",
       "      <td>10</td>\n",
       "      <td>11</td>\n",
       "    </tr>\n",
       "    <tr>\n",
       "      <th>3</th>\n",
       "      <td>12</td>\n",
       "      <td>13</td>\n",
       "      <td>14</td>\n",
       "      <td>15</td>\n",
       "    </tr>\n",
       "    <tr>\n",
       "      <th>4</th>\n",
       "      <td>16</td>\n",
       "      <td>17</td>\n",
       "      <td>18</td>\n",
       "      <td>19</td>\n",
       "    </tr>\n",
       "  </tbody>\n",
       "</table>\n",
       "</div>"
      ],
      "text/plain": [
       "    0   1   2   3\n",
       "0   0   1   2   3\n",
       "1   4   5   6   7\n",
       "2   8   9  10  11\n",
       "3  12  13  14  15\n",
       "4  16  17  18  19"
      ]
     },
     "execution_count": 34,
     "metadata": {},
     "output_type": "execute_result"
    }
   ],
   "source": [
    "import pandas as pd\n",
    "import numpy as np\n",
    "\n",
    "ser = pd.Series([10,20,30])\n",
    "df = pd.DataFrame([[10,\"a\",True],\n",
    "                 [20,\"b\",False],\n",
    "                 [30,\"c\",False],\n",
    "                 [40,\"d\",True]])\n",
    "\n",
    "df = pd.DataFrame(np.arange(100).reshape((25,4)))\n",
    "df.head()\n"
   ]
  },
  {
   "cell_type": "code",
   "execution_count": 40,
   "metadata": {
    "scrolled": true
   },
   "outputs": [
    {
     "name": "stdout",
     "output_type": "stream",
     "text": [
      "[[1 2 3]\n",
      " [4 5 6]]\n",
      "[1 2 3]\n",
      "[2 3]\n",
      "[0 0]\n",
      "[[1 0 0]\n",
      " [4 5 6]]\n",
      "[0 5]\n"
     ]
    }
   ],
   "source": [
    "##次元数の変換\n",
    "##テストデータc1\n",
    "c1 = np.array([1,2,3,4,5,6])\n",
    "\n",
    "##次元数変換 引数はタプル\n",
    "c2 = c1.reshape((2,3))\n",
    "\n",
    "##２次元配列のインデックス\n",
    "##print(c2)\n",
    "##print (c2[1,0])\n",
    "\n",
    "##２次元配列のスライス\n",
    "print(c2)\n",
    "print (c2[0,:])\n",
    "\n",
    "print (c2[0,1:])\n",
    "c2[0,1:] = 0\n",
    "print (c2[0,1:])\n",
    "\n",
    "print (c2)\n",
    "print (c2[:,1])\n",
    "\n",
    "\n",
    "##メモ\n",
    "##次元数変換は要素数が大事\n",
    "##4 x 2 のとき\n",
    "c1 = np.array([1,2,3,4,5,6,7,8])\n",
    "c2 = c1.reshape((4,2))\n",
    "\n",
    "\n",
    "##1次元配列に変換 コピーしない\n",
    "c3 = c2.ravel()\n",
    "##1次元配列に変換 コピー\n",
    "c4 = c2.flatten()\n",
    "\n",
    "##深いコピーについて\n"
   ]
  },
  {
   "cell_type": "code",
   "execution_count": 1,
   "metadata": {
    "scrolled": true
   },
   "outputs": [
    {
     "name": "stdout",
     "output_type": "stream",
     "text": [
      "[1 2 3]\n",
      "1\n",
      "[2 3]\n",
      "[1 2]\n",
      "[1 2]\n"
     ]
    }
   ],
   "source": [
    "import numpy as np\n",
    "\n",
    "##データ型を指定してnumpyを使う\n",
    "a = np.array([1,2,3],dtype=np.int16)\n",
    "\n",
    "##中身の表示\n",
    "print(a)\n",
    "\n",
    "##データが型を調べる\n",
    "type (a)\n",
    "\n",
    "##次元数を調べる\n",
    "a.shape\n",
    "\n",
    "##データ型を表示する\n",
    "a.dtype\n",
    "\n",
    "##numpy にも インデックスとスライスがある\n",
    "print (a[0])\n",
    "print (a[1:])\n",
    "\n",
    "##異なる表現で同じスライスを表現する\n",
    "print (a[:-1])\n",
    "print (a[:2])\n",
    "\n"
   ]
  }
 ],
 "metadata": {
  "kernelspec": {
   "display_name": "Python 3",
   "language": "python",
   "name": "python3"
  },
  "language_info": {
   "codemirror_mode": {
    "name": "ipython",
    "version": 3
   },
   "file_extension": ".py",
   "mimetype": "text/x-python",
   "name": "python",
   "nbconvert_exporter": "python",
   "pygments_lexer": "ipython3",
   "version": "3.7.4"
  }
 },
 "nbformat": 4,
 "nbformat_minor": 2
}

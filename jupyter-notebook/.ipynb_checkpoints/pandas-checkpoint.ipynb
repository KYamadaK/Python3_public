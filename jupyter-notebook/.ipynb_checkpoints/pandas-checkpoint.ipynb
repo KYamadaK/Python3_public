{
 "cells": [
  {
   "cell_type": "code",
   "execution_count": 50,
   "metadata": {},
   "outputs": [
    {
     "data": {
      "text/plain": [
       "DatetimeIndex(['2017-04-01', '2017-04-02', '2017-04-03', '2017-04-04',\n",
       "               '2017-04-05', '2017-04-06', '2017-04-07', '2017-04-08',\n",
       "               '2017-04-09', '2017-04-10', '2017-04-11', '2017-04-12',\n",
       "               '2017-04-13', '2017-04-14', '2017-04-15', '2017-04-16',\n",
       "               '2017-04-17', '2017-04-18', '2017-04-19', '2017-04-20',\n",
       "               '2017-04-21', '2017-04-22', '2017-04-23', '2017-04-24',\n",
       "               '2017-04-25', '2017-04-26', '2017-04-27', '2017-04-28',\n",
       "               '2017-04-29', '2017-04-30'],\n",
       "              dtype='datetime64[ns]', freq='D')"
      ]
     },
     "execution_count": 50,
     "metadata": {},
     "output_type": "execute_result"
    }
   ],
   "source": [
    "import pandas as pd\n",
    "import numpy as np\n",
    "\n",
    "dates = pd.date_range(start=\"2017-04-01\",end=\"2017-04-30\")\n",
    "dates"
   ]
  },
  {
   "cell_type": "code",
   "execution_count": 49,
   "metadata": {},
   "outputs": [],
   "source": [
    "import pandas as pd\n",
    "import numpy as np\n",
    "\n",
    "def exercise_judge(ex):\n",
    "    if ex <= 3.0:\n",
    "        return \"Low\"\n",
    "    elif 3.0 < ex <= 6.0 :\n",
    "        return \"Mid\"\n",
    "    else:\n",
    "        return \"High\"\n",
    "\n",
    "\n",
    "#データを読み込む\n",
    "df = pd.read_csv(\"data/201704health.csv\",encoding=\"utf-8\")\n",
    "df = pd.read_excel(\"data/201704health.xlsx\")\n",
    "\n",
    "#歩数が10000以上のDataFrameを作成する\n",
    "df_selected = df[df.loc[:,\"歩数\"] >= 10000]\n",
    "#タプルで行数を確認する\n",
    "df_selected.shape\n",
    "\n",
    "#DataFrameで複数の条件を指定してDataFrameを抽出する\n",
    "df.query('歩数 >= 10000 and 摂取カロリー <= 1800')\n",
    "\n",
    "#新しくdate列を作成し、日付列をコピーする\n",
    "df.loc[:,'date'] = df.loc[:,'日付'].apply(pd.to_datetime)\n",
    "df.loc[:,\"date\"]\n",
    "\n",
    "#摂取カロリーをfloat型に変換\n",
    "df.loc[:,\"摂取カロリー\"] = df.loc[:,\"摂取カロリー\"].astype(np.float32)\n",
    "\n",
    "#インデックスにdate列を設定する\n",
    "df = df.set_index(\"date\")\n",
    "\n",
    "#昇順で並び替え\n",
    "df.sort_values('歩数').head()\n",
    "\n",
    "#降順で並び替え\n",
    "df.sort_values('歩数',ascending=False).head()\n",
    "\n",
    "#不要なカラムを削除\n",
    "#昇順で並び替え\n",
    "df = df.drop(\"日付\",axis=1)\n",
    "df.sort_values('歩数').tail()\n",
    "\n",
    "df.loc[:,\"歩数/摂取カロリー\"] = df.loc[:,\"歩数\"] / df.loc[:,\"摂取カロリー\"]\n",
    "df.loc[:,\"運動指数\"] = df.loc[:,\"歩数/摂取カロリー\"].apply(exercise_judge)\n",
    "df.sort_values('歩数').head()\n",
    "df.to_pickle(\"data/df_201704health.pickle\")\n",
    "df_moved = pd.get_dummies(df.loc[:,\"運動指数\"],prefix=\"運動\")\n",
    "df_moved.to_pickle(\"data/df_201704moved.pickle\")\n"
   ]
  },
  {
   "cell_type": "code",
   "execution_count": 29,
   "metadata": {},
   "outputs": [],
   "source": [
    "import pandas as pd\n",
    "import numpy as np\n",
    "\n",
    "df = pd.DataFrame(np.arange(24).reshape(6,4))\n",
    "df.index=[\"A\",\"B\",\"C\",\"D\",\"E\",\"F\"]\n",
    "df.columns = [\"a\",\"b\",\"c\",\"d\"]\n",
    "#print (df.head())\n",
    "#print (df.tail())\n",
    "#print (df.shape)\n",
    "\n",
    "#print (df[:])\n",
    "#print (df[\"a\"])\n",
    "#print (df[:\"A\"])\n",
    "\n",
    "\n",
    "#print (df.iloc[:])\n",
    "#print (df.iloc[0,:])\n",
    "\n",
    "df_tmp_a = df.iloc[:,[0,2]]\n",
    "#print (df_tmp_a)\n",
    "\n",
    "\n",
    "#print (df.loc[:])\n",
    "#print (df.loc[\"A\",:])\n",
    "df_tmp_b = df.loc[:,[\"a\",\"c\"]]\n",
    "#print (df_tmp_b.loc[:])\n",
    "\n"
   ]
  }
 ],
 "metadata": {
  "kernelspec": {
   "display_name": "Python 3",
   "language": "python",
   "name": "python3"
  },
  "language_info": {
   "codemirror_mode": {
    "name": "ipython",
    "version": 3
   },
   "file_extension": ".py",
   "mimetype": "text/x-python",
   "name": "python",
   "nbconvert_exporter": "python",
   "pygments_lexer": "ipython3",
   "version": "3.7.4"
  }
 },
 "nbformat": 4,
 "nbformat_minor": 2
}

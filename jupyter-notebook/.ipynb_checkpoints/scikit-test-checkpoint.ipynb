{
 "cells": [
  {
   "cell_type": "code",
   "execution_count": 6,
   "metadata": {},
   "outputs": [
    {
     "name": "stderr",
     "output_type": "stream",
     "text": [
      "C:\\Users\\Yamada\\Anaconda3\\lib\\site-packages\\sklearn\\utils\\deprecation.py:66: DeprecationWarning: Class Imputer is deprecated; Imputer was deprecated in version 0.20 and will be removed in 0.22. Import impute.SimpleImputer from sklearn instead.\n",
      "  warnings.warn(msg, category=DeprecationWarning)\n"
     ]
    },
    {
     "data": {
      "text/plain": [
       "array([[ 1.  ,  6.  , 11.  ],\n",
       "       [ 3.25,  7.  , 12.  ],\n",
       "       [ 3.  ,  8.  , 13.  ],\n",
       "       [ 4.  ,  7.75, 14.  ],\n",
       "       [ 5.  , 10.  , 15.  ]])"
      ]
     },
     "execution_count": 6,
     "metadata": {},
     "output_type": "execute_result"
    }
   ],
   "source": [
    "import numpy as np\n",
    "import pandas as pd\n",
    "#from sklearn import impute.SimpleImputer \n",
    "\n",
    "from sklearn.preprocessing import Imputer \n",
    "\n",
    "#データフレームの作成\n",
    "df = pd.DataFrame({'A':[1,np.nan,3,4,5],\n",
    "                  'B':[6,7,8,np.nan,10],\n",
    "                  'C':[11,12,13,14,15]})\n",
    "#欠損値の確認\n",
    "df.isnull()\n",
    "\n",
    "#欠損値の保管\n",
    "imp=Imputer(strategy='mean',axis=0)\n",
    "imp.fit(df)\n",
    "imp.transform(df)"
   ]
  },
  {
   "cell_type": "code",
   "execution_count": null,
   "metadata": {},
   "outputs": [],
   "source": []
  }
 ],
 "metadata": {
  "kernelspec": {
   "display_name": "Python 3",
   "language": "python",
   "name": "python3"
  },
  "language_info": {
   "codemirror_mode": {
    "name": "ipython",
    "version": 3
   },
   "file_extension": ".py",
   "mimetype": "text/x-python",
   "name": "python",
   "nbconvert_exporter": "python",
   "pygments_lexer": "ipython3",
   "version": "3.7.3"
  }
 },
 "nbformat": 4,
 "nbformat_minor": 2
}
